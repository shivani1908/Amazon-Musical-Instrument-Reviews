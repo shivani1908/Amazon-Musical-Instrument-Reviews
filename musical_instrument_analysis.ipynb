{
 "cells": [
  {
   "cell_type": "code",
   "execution_count": 1,
   "metadata": {
    "colab": {
     "base_uri": "https://localhost:8080/",
     "height": 34
    },
    "colab_type": "code",
    "executionInfo": {
     "elapsed": 10068,
     "status": "ok",
     "timestamp": 1590313648492,
     "user": {
      "displayName": "shivani agrawal",
      "photoUrl": "https://lh3.googleusercontent.com/a-/AOh14Gg_3EicpNrCDaGDzpdu6kmoiE0ZTb47wDfW0j425A=s64",
      "userId": "16789929496636965576"
     },
     "user_tz": -330
    },
    "id": "HVSVTKKncpAt",
    "outputId": "b9e6ba2c-96d5-475f-c8f6-2c5d783c1758"
   },
   "outputs": [
    {
     "data": {
      "text/plain": [
       "'/device:GPU:0'"
      ]
     },
     "execution_count": 1,
     "metadata": {
      "tags": []
     },
     "output_type": "execute_result"
    }
   ],
   "source": [
    "import tensorflow as tf\n",
    "tf.test.gpu_device_name()"
   ]
  },
  {
   "cell_type": "code",
   "execution_count": 0,
   "metadata": {
    "colab": {},
    "colab_type": "code",
    "id": "jrHDi3FLealg"
   },
   "outputs": [],
   "source": [
    "!pip install -q keras"
   ]
  },
  {
   "cell_type": "code",
   "execution_count": 3,
   "metadata": {
    "colab": {
     "base_uri": "https://localhost:8080/",
     "height": 72
    },
    "colab_type": "code",
    "executionInfo": {
     "elapsed": 13014,
     "status": "ok",
     "timestamp": 1590313654006,
     "user": {
      "displayName": "shivani agrawal",
      "photoUrl": "https://lh3.googleusercontent.com/a-/AOh14Gg_3EicpNrCDaGDzpdu6kmoiE0ZTb47wDfW0j425A=s64",
      "userId": "16789929496636965576"
     },
     "user_tz": -330
    },
    "id": "lJ3EHSgPfiWz",
    "outputId": "88d0505a-789c-40ef-9ee2-90971f0404e2"
   },
   "outputs": [
    {
     "name": "stderr",
     "output_type": "stream",
     "text": [
      "/usr/local/lib/python3.6/dist-packages/statsmodels/tools/_testing.py:19: FutureWarning: pandas.util.testing is deprecated. Use the functions in the public API at pandas.testing instead.\n",
      "  import pandas.util.testing as tm\n"
     ]
    }
   ],
   "source": [
    "import numpy as np\n",
    "import pandas as pd\n",
    "import matplotlib.pyplot as plt\n",
    "import seaborn as sns\n",
    "sns.set_style(\"darkgrid\")\n",
    "import warnings\n",
    "warnings.filterwarnings(\"ignore\")"
   ]
  },
  {
   "cell_type": "code",
   "execution_count": 0,
   "metadata": {
    "colab": {},
    "colab_type": "code",
    "id": "3lumpVbrfyby"
   },
   "outputs": [],
   "source": [
    "df = pd.read_csv('/content/drive/My Drive/Colab Notebooks/ANN/Musical_instruments_reviews.csv')"
   ]
  },
  {
   "cell_type": "code",
   "execution_count": 5,
   "metadata": {
    "colab": {
     "base_uri": "https://localhost:8080/",
     "height": 369
    },
    "colab_type": "code",
    "executionInfo": {
     "elapsed": 10174,
     "status": "ok",
     "timestamp": 1590313655643,
     "user": {
      "displayName": "shivani agrawal",
      "photoUrl": "https://lh3.googleusercontent.com/a-/AOh14Gg_3EicpNrCDaGDzpdu6kmoiE0ZTb47wDfW0j425A=s64",
      "userId": "16789929496636965576"
     },
     "user_tz": -330
    },
    "id": "NAaUJhc8f-kx",
    "outputId": "55adb7ba-f1ae-4627-cdab-970f16da1c3e"
   },
   "outputs": [
    {
     "data": {
      "text/html": [
       "<div>\n",
       "<style scoped>\n",
       "    .dataframe tbody tr th:only-of-type {\n",
       "        vertical-align: middle;\n",
       "    }\n",
       "\n",
       "    .dataframe tbody tr th {\n",
       "        vertical-align: top;\n",
       "    }\n",
       "\n",
       "    .dataframe thead th {\n",
       "        text-align: right;\n",
       "    }\n",
       "</style>\n",
       "<table border=\"1\" class=\"dataframe\">\n",
       "  <thead>\n",
       "    <tr style=\"text-align: right;\">\n",
       "      <th></th>\n",
       "      <th>reviewerID</th>\n",
       "      <th>asin</th>\n",
       "      <th>reviewerName</th>\n",
       "      <th>helpful</th>\n",
       "      <th>reviewText</th>\n",
       "      <th>overall</th>\n",
       "      <th>summary</th>\n",
       "      <th>unixReviewTime</th>\n",
       "      <th>reviewTime</th>\n",
       "    </tr>\n",
       "  </thead>\n",
       "  <tbody>\n",
       "    <tr>\n",
       "      <th>0</th>\n",
       "      <td>A2IBPI20UZIR0U</td>\n",
       "      <td>1384719342</td>\n",
       "      <td>cassandra tu \"Yeah, well, that's just like, u...</td>\n",
       "      <td>[0, 0]</td>\n",
       "      <td>Not much to write about here, but it does exac...</td>\n",
       "      <td>5.0</td>\n",
       "      <td>good</td>\n",
       "      <td>1393545600</td>\n",
       "      <td>02 28, 2014</td>\n",
       "    </tr>\n",
       "    <tr>\n",
       "      <th>1</th>\n",
       "      <td>A14VAT5EAX3D9S</td>\n",
       "      <td>1384719342</td>\n",
       "      <td>Jake</td>\n",
       "      <td>[13, 14]</td>\n",
       "      <td>The product does exactly as it should and is q...</td>\n",
       "      <td>5.0</td>\n",
       "      <td>Jake</td>\n",
       "      <td>1363392000</td>\n",
       "      <td>03 16, 2013</td>\n",
       "    </tr>\n",
       "    <tr>\n",
       "      <th>2</th>\n",
       "      <td>A195EZSQDW3E21</td>\n",
       "      <td>1384719342</td>\n",
       "      <td>Rick Bennette \"Rick Bennette\"</td>\n",
       "      <td>[1, 1]</td>\n",
       "      <td>The primary job of this device is to block the...</td>\n",
       "      <td>5.0</td>\n",
       "      <td>It Does The Job Well</td>\n",
       "      <td>1377648000</td>\n",
       "      <td>08 28, 2013</td>\n",
       "    </tr>\n",
       "    <tr>\n",
       "      <th>3</th>\n",
       "      <td>A2C00NNG1ZQQG2</td>\n",
       "      <td>1384719342</td>\n",
       "      <td>RustyBill \"Sunday Rocker\"</td>\n",
       "      <td>[0, 0]</td>\n",
       "      <td>Nice windscreen protects my MXL mic and preven...</td>\n",
       "      <td>5.0</td>\n",
       "      <td>GOOD WINDSCREEN FOR THE MONEY</td>\n",
       "      <td>1392336000</td>\n",
       "      <td>02 14, 2014</td>\n",
       "    </tr>\n",
       "    <tr>\n",
       "      <th>4</th>\n",
       "      <td>A94QU4C90B1AX</td>\n",
       "      <td>1384719342</td>\n",
       "      <td>SEAN MASLANKA</td>\n",
       "      <td>[0, 0]</td>\n",
       "      <td>This pop filter is great. It looks and perform...</td>\n",
       "      <td>5.0</td>\n",
       "      <td>No more pops when I record my vocals.</td>\n",
       "      <td>1392940800</td>\n",
       "      <td>02 21, 2014</td>\n",
       "    </tr>\n",
       "  </tbody>\n",
       "</table>\n",
       "</div>"
      ],
      "text/plain": [
       "       reviewerID        asin  ... unixReviewTime   reviewTime\n",
       "0  A2IBPI20UZIR0U  1384719342  ...     1393545600  02 28, 2014\n",
       "1  A14VAT5EAX3D9S  1384719342  ...     1363392000  03 16, 2013\n",
       "2  A195EZSQDW3E21  1384719342  ...     1377648000  08 28, 2013\n",
       "3  A2C00NNG1ZQQG2  1384719342  ...     1392336000  02 14, 2014\n",
       "4   A94QU4C90B1AX  1384719342  ...     1392940800  02 21, 2014\n",
       "\n",
       "[5 rows x 9 columns]"
      ]
     },
     "execution_count": 5,
     "metadata": {
      "tags": []
     },
     "output_type": "execute_result"
    }
   ],
   "source": [
    "df.head()"
   ]
  },
  {
   "cell_type": "code",
   "execution_count": 6,
   "metadata": {
    "colab": {
     "base_uri": "https://localhost:8080/",
     "height": 34
    },
    "colab_type": "code",
    "executionInfo": {
     "elapsed": 4847,
     "status": "ok",
     "timestamp": 1590313655644,
     "user": {
      "displayName": "shivani agrawal",
      "photoUrl": "https://lh3.googleusercontent.com/a-/AOh14Gg_3EicpNrCDaGDzpdu6kmoiE0ZTb47wDfW0j425A=s64",
      "userId": "16789929496636965576"
     },
     "user_tz": -330
    },
    "id": "bb_0GpOwgGbD",
    "outputId": "17b206a0-3f24-4081-8e77-423241364751"
   },
   "outputs": [
    {
     "data": {
      "text/plain": [
       "(10261, 9)"
      ]
     },
     "execution_count": 6,
     "metadata": {
      "tags": []
     },
     "output_type": "execute_result"
    }
   ],
   "source": [
    "df.shape"
   ]
  },
  {
   "cell_type": "code",
   "execution_count": 7,
   "metadata": {
    "colab": {
     "base_uri": "https://localhost:8080/",
     "height": 199
    },
    "colab_type": "code",
    "executionInfo": {
     "elapsed": 4590,
     "status": "ok",
     "timestamp": 1590313655646,
     "user": {
      "displayName": "shivani agrawal",
      "photoUrl": "https://lh3.googleusercontent.com/a-/AOh14Gg_3EicpNrCDaGDzpdu6kmoiE0ZTb47wDfW0j425A=s64",
      "userId": "16789929496636965576"
     },
     "user_tz": -330
    },
    "id": "XKTklpYqgMnN",
    "outputId": "6c0854c8-7fdf-4a03-ed28-efb111463b99"
   },
   "outputs": [
    {
     "data": {
      "text/html": [
       "<div>\n",
       "<style scoped>\n",
       "    .dataframe tbody tr th:only-of-type {\n",
       "        vertical-align: middle;\n",
       "    }\n",
       "\n",
       "    .dataframe tbody tr th {\n",
       "        vertical-align: top;\n",
       "    }\n",
       "\n",
       "    .dataframe thead th {\n",
       "        text-align: right;\n",
       "    }\n",
       "</style>\n",
       "<table border=\"1\" class=\"dataframe\">\n",
       "  <thead>\n",
       "    <tr style=\"text-align: right;\">\n",
       "      <th></th>\n",
       "      <th>reviewText</th>\n",
       "      <th>overall</th>\n",
       "      <th>summary</th>\n",
       "    </tr>\n",
       "  </thead>\n",
       "  <tbody>\n",
       "    <tr>\n",
       "      <th>0</th>\n",
       "      <td>Not much to write about here, but it does exac...</td>\n",
       "      <td>5.0</td>\n",
       "      <td>good</td>\n",
       "    </tr>\n",
       "    <tr>\n",
       "      <th>1</th>\n",
       "      <td>The product does exactly as it should and is q...</td>\n",
       "      <td>5.0</td>\n",
       "      <td>Jake</td>\n",
       "    </tr>\n",
       "    <tr>\n",
       "      <th>2</th>\n",
       "      <td>The primary job of this device is to block the...</td>\n",
       "      <td>5.0</td>\n",
       "      <td>It Does The Job Well</td>\n",
       "    </tr>\n",
       "    <tr>\n",
       "      <th>3</th>\n",
       "      <td>Nice windscreen protects my MXL mic and preven...</td>\n",
       "      <td>5.0</td>\n",
       "      <td>GOOD WINDSCREEN FOR THE MONEY</td>\n",
       "    </tr>\n",
       "    <tr>\n",
       "      <th>4</th>\n",
       "      <td>This pop filter is great. It looks and perform...</td>\n",
       "      <td>5.0</td>\n",
       "      <td>No more pops when I record my vocals.</td>\n",
       "    </tr>\n",
       "  </tbody>\n",
       "</table>\n",
       "</div>"
      ],
      "text/plain": [
       "                                          reviewText  ...                                summary\n",
       "0  Not much to write about here, but it does exac...  ...                                   good\n",
       "1  The product does exactly as it should and is q...  ...                                   Jake\n",
       "2  The primary job of this device is to block the...  ...                   It Does The Job Well\n",
       "3  Nice windscreen protects my MXL mic and preven...  ...          GOOD WINDSCREEN FOR THE MONEY\n",
       "4  This pop filter is great. It looks and perform...  ...  No more pops when I record my vocals.\n",
       "\n",
       "[5 rows x 3 columns]"
      ]
     },
     "execution_count": 7,
     "metadata": {
      "tags": []
     },
     "output_type": "execute_result"
    }
   ],
   "source": [
    "#Let's drop columns not needed\n",
    "df.drop(columns=['helpful', 'unixReviewTime', 'reviewTime', 'reviewerName', 'asin', 'reviewerID'], axis=1, inplace=True)\n",
    "\n",
    "df.head()"
   ]
  },
  {
   "cell_type": "code",
   "execution_count": 8,
   "metadata": {
    "colab": {
     "base_uri": "https://localhost:8080/",
     "height": 87
    },
    "colab_type": "code",
    "executionInfo": {
     "elapsed": 2404,
     "status": "ok",
     "timestamp": 1590313655647,
     "user": {
      "displayName": "shivani agrawal",
      "photoUrl": "https://lh3.googleusercontent.com/a-/AOh14Gg_3EicpNrCDaGDzpdu6kmoiE0ZTb47wDfW0j425A=s64",
      "userId": "16789929496636965576"
     },
     "user_tz": -330
    },
    "id": "iUFScMuGeGVx",
    "outputId": "b8d7dcc9-0358-46fe-fdbe-d11ff9b54410"
   },
   "outputs": [
    {
     "data": {
      "text/plain": [
       "reviewText    7\n",
       "overall       0\n",
       "summary       0\n",
       "dtype: int64"
      ]
     },
     "execution_count": 8,
     "metadata": {
      "tags": []
     },
     "output_type": "execute_result"
    }
   ],
   "source": [
    "#check for null values\n",
    "\n",
    "df.isnull().sum()"
   ]
  },
  {
   "cell_type": "code",
   "execution_count": 0,
   "metadata": {
    "colab": {},
    "colab_type": "code",
    "id": "3kGVFTdneL1K"
   },
   "outputs": [],
   "source": [
    "#Fill null values\n",
    "df.reviewText.fillna(\" \", inplace=True)"
   ]
  },
  {
   "cell_type": "code",
   "execution_count": 10,
   "metadata": {
    "colab": {
     "base_uri": "https://localhost:8080/",
     "height": 199
    },
    "colab_type": "code",
    "executionInfo": {
     "elapsed": 2065,
     "status": "ok",
     "timestamp": 1590313671140,
     "user": {
      "displayName": "shivani agrawal",
      "photoUrl": "https://lh3.googleusercontent.com/a-/AOh14Gg_3EicpNrCDaGDzpdu6kmoiE0ZTb47wDfW0j425A=s64",
      "userId": "16789929496636965576"
     },
     "user_tz": -330
    },
    "id": "SbwW1J8EdL3H",
    "outputId": "4c1af7b4-8ce6-4798-fcb2-633c6e13d25b"
   },
   "outputs": [
    {
     "data": {
      "text/html": [
       "<div>\n",
       "<style scoped>\n",
       "    .dataframe tbody tr th:only-of-type {\n",
       "        vertical-align: middle;\n",
       "    }\n",
       "\n",
       "    .dataframe tbody tr th {\n",
       "        vertical-align: top;\n",
       "    }\n",
       "\n",
       "    .dataframe thead th {\n",
       "        text-align: right;\n",
       "    }\n",
       "</style>\n",
       "<table border=\"1\" class=\"dataframe\">\n",
       "  <thead>\n",
       "    <tr style=\"text-align: right;\">\n",
       "      <th></th>\n",
       "      <th>reviewText</th>\n",
       "      <th>overall</th>\n",
       "      <th>summary</th>\n",
       "      <th>text</th>\n",
       "    </tr>\n",
       "  </thead>\n",
       "  <tbody>\n",
       "    <tr>\n",
       "      <th>0</th>\n",
       "      <td>Not much to write about here, but it does exac...</td>\n",
       "      <td>5.0</td>\n",
       "      <td>good</td>\n",
       "      <td>Not much to write about here, but it does exac...</td>\n",
       "    </tr>\n",
       "    <tr>\n",
       "      <th>1</th>\n",
       "      <td>The product does exactly as it should and is q...</td>\n",
       "      <td>5.0</td>\n",
       "      <td>Jake</td>\n",
       "      <td>The product does exactly as it should and is q...</td>\n",
       "    </tr>\n",
       "    <tr>\n",
       "      <th>2</th>\n",
       "      <td>The primary job of this device is to block the...</td>\n",
       "      <td>5.0</td>\n",
       "      <td>It Does The Job Well</td>\n",
       "      <td>The primary job of this device is to block the...</td>\n",
       "    </tr>\n",
       "    <tr>\n",
       "      <th>3</th>\n",
       "      <td>Nice windscreen protects my MXL mic and preven...</td>\n",
       "      <td>5.0</td>\n",
       "      <td>GOOD WINDSCREEN FOR THE MONEY</td>\n",
       "      <td>Nice windscreen protects my MXL mic and preven...</td>\n",
       "    </tr>\n",
       "    <tr>\n",
       "      <th>4</th>\n",
       "      <td>This pop filter is great. It looks and perform...</td>\n",
       "      <td>5.0</td>\n",
       "      <td>No more pops when I record my vocals.</td>\n",
       "      <td>This pop filter is great. It looks and perform...</td>\n",
       "    </tr>\n",
       "  </tbody>\n",
       "</table>\n",
       "</div>"
      ],
      "text/plain": [
       "                                          reviewText  ...                                               text\n",
       "0  Not much to write about here, but it does exac...  ...  Not much to write about here, but it does exac...\n",
       "1  The product does exactly as it should and is q...  ...  The product does exactly as it should and is q...\n",
       "2  The primary job of this device is to block the...  ...  The primary job of this device is to block the...\n",
       "3  Nice windscreen protects my MXL mic and preven...  ...  Nice windscreen protects my MXL mic and preven...\n",
       "4  This pop filter is great. It looks and perform...  ...  This pop filter is great. It looks and perform...\n",
       "\n",
       "[5 rows x 4 columns]"
      ]
     },
     "execution_count": 10,
     "metadata": {
      "tags": []
     },
     "output_type": "execute_result"
    }
   ],
   "source": [
    "#combine reviewText and summary\n",
    "df['text'] = df['reviewText'] + \" \" + df['summary']\n",
    "df.head()"
   ]
  },
  {
   "cell_type": "code",
   "execution_count": 0,
   "metadata": {
    "colab": {},
    "colab_type": "code",
    "id": "DuUxoRRodb5D"
   },
   "outputs": [],
   "source": [
    "df.drop(columns=['reviewText', 'summary'], inplace=True, axis = 1)"
   ]
  },
  {
   "cell_type": "code",
   "execution_count": 12,
   "metadata": {
    "colab": {
     "base_uri": "https://localhost:8080/",
     "height": 70
    },
    "colab_type": "code",
    "executionInfo": {
     "elapsed": 1231,
     "status": "ok",
     "timestamp": 1590313674173,
     "user": {
      "displayName": "shivani agrawal",
      "photoUrl": "https://lh3.googleusercontent.com/a-/AOh14Gg_3EicpNrCDaGDzpdu6kmoiE0ZTb47wDfW0j425A=s64",
      "userId": "16789929496636965576"
     },
     "user_tz": -330
    },
    "id": "ODsMfvsxec-P",
    "outputId": "2acdc53c-e330-4463-c420-d16d568f34a7"
   },
   "outputs": [
    {
     "data": {
      "text/plain": [
       "overall    0\n",
       "text       0\n",
       "dtype: int64"
      ]
     },
     "execution_count": 12,
     "metadata": {
      "tags": []
     },
     "output_type": "execute_result"
    }
   ],
   "source": [
    "#check for null values\n",
    "\n",
    "df.isnull().sum()"
   ]
  },
  {
   "cell_type": "code",
   "execution_count": 13,
   "metadata": {
    "colab": {
     "base_uri": "https://localhost:8080/",
     "height": 279
    },
    "colab_type": "code",
    "executionInfo": {
     "elapsed": 1141,
     "status": "ok",
     "timestamp": 1590313676628,
     "user": {
      "displayName": "shivani agrawal",
      "photoUrl": "https://lh3.googleusercontent.com/a-/AOh14Gg_3EicpNrCDaGDzpdu6kmoiE0ZTb47wDfW0j425A=s64",
      "userId": "16789929496636965576"
     },
     "user_tz": -330
    },
    "id": "fl839XFUgvbJ",
    "outputId": "09a54c3e-b60a-4c6e-8137-f3721887706c"
   },
   "outputs": [
    {
     "data": {
      "image/png": "[encoded data removed]",
      "text/plain": [
       "<Figure size 432x288 with 1 Axes>"
      ]
     },
     "metadata": {
      "tags": []
     },
     "output_type": "display_data"
    }
   ],
   "source": [
    "sns.countplot(x='overall', data=df)\n",
    "plt.show()"
   ]
  },
  {
   "cell_type": "markdown",
   "metadata": {
    "colab_type": "text",
    "id": "qNnCf1GosFRS"
   },
   "source": [
    "Classifying the feedback as positive,Negative and neutral"
   ]
  },
  {
   "cell_type": "code",
   "execution_count": 0,
   "metadata": {
    "colab": {},
    "colab_type": "code",
    "id": "m34RPjrDr1pb"
   },
   "outputs": [],
   "source": [
    "def sentiment_rating(rating):\n",
    "    # Replacing ratings of 1,2 with 0 (negative), 3 with 1 (neutral)and 4,5 with 2 (positive)\n",
    "    if(int(rating) == 1 or int(rating) == 2):\n",
    "        return 0\n",
    "    elif(int(rating) == 3):\n",
    "        return 1\n",
    "    else: \n",
    "        return 2\n",
    "df.overall = df.overall.apply(sentiment_rating) "
   ]
  },
  {
   "cell_type": "code",
   "execution_count": 15,
   "metadata": {
    "colab": {
     "base_uri": "https://localhost:8080/",
     "height": 279
    },
    "colab_type": "code",
    "executionInfo": {
     "elapsed": 1143,
     "status": "ok",
     "timestamp": 1590313693346,
     "user": {
      "displayName": "shivani agrawal",
      "photoUrl": "https://lh3.googleusercontent.com/a-/AOh14Gg_3EicpNrCDaGDzpdu6kmoiE0ZTb47wDfW0j425A=s64",
      "userId": "16789929496636965576"
     },
     "user_tz": -330
    },
    "id": "o-NV-rPXsTqX",
    "outputId": "beff4769-acb2-4a2c-f901-656510989e60"
   },
   "outputs": [
    {
     "data": {
      "image/png": "[encoded data removed]",
      "text/plain": [
       "<Figure size 432x288 with 1 Axes>"
      ]
     },
     "metadata": {
      "tags": []
     },
     "output_type": "display_data"
    }
   ],
   "source": [
    "sns.countplot(x='overall', data=df)\n",
    "plt.show()"
   ]
  },
  {
   "cell_type": "code",
   "execution_count": 16,
   "metadata": {
    "colab": {
     "base_uri": "https://localhost:8080/",
     "height": 87
    },
    "colab_type": "code",
    "executionInfo": {
     "elapsed": 1077,
     "status": "ok",
     "timestamp": 1590313701814,
     "user": {
      "displayName": "shivani agrawal",
      "photoUrl": "https://lh3.googleusercontent.com/a-/AOh14Gg_3EicpNrCDaGDzpdu6kmoiE0ZTb47wDfW0j425A=s64",
      "userId": "16789929496636965576"
     },
     "user_tz": -330
    },
    "id": "Tphu8iE_-4Nm",
    "outputId": "8b7019e0-3c08-4f45-b033-4569f2fd52e6"
   },
   "outputs": [
    {
     "data": {
      "text/plain": [
       "2    9022\n",
       "1     772\n",
       "0     467\n",
       "Name: overall, dtype: int64"
      ]
     },
     "execution_count": 16,
     "metadata": {
      "tags": []
     },
     "output_type": "execute_result"
    }
   ],
   "source": [
    "df.overall.value_counts()"
   ]
  },
  {
   "cell_type": "markdown",
   "metadata": {
    "colab_type": "text",
    "id": "UhtfIdVAg3R6"
   },
   "source": [
    "# Text Cleaning"
   ]
  },
  {
   "cell_type": "code",
   "execution_count": 17,
   "metadata": {
    "colab": {
     "base_uri": "https://localhost:8080/",
     "height": 140
    },
    "colab_type": "code",
    "executionInfo": {
     "elapsed": 2989,
     "status": "ok",
     "timestamp": 1590313709322,
     "user": {
      "displayName": "shivani agrawal",
      "photoUrl": "https://lh3.googleusercontent.com/a-/AOh14Gg_3EicpNrCDaGDzpdu6kmoiE0ZTb47wDfW0j425A=s64",
      "userId": "16789929496636965576"
     },
     "user_tz": -330
    },
    "id": "6aSK59vsg5fa",
    "outputId": "5031ac14-6ed8-4042-8627-17340433bc9f"
   },
   "outputs": [
    {
     "name": "stdout",
     "output_type": "stream",
     "text": [
      "[nltk_data] Downloading package stopwords to /root/nltk_data...\n",
      "[nltk_data]   Unzipping corpora/stopwords.zip.\n",
      "[nltk_data] Downloading package wordnet to /root/nltk_data...\n",
      "[nltk_data]   Unzipping corpora/wordnet.zip.\n",
      "[nltk_data] Downloading package averaged_perceptron_tagger to\n",
      "[nltk_data]     /root/nltk_data...\n",
      "[nltk_data]   Unzipping taggers/averaged_perceptron_tagger.zip.\n"
     ]
    }
   ],
   "source": [
    "import nltk\n",
    "nltk.download('stopwords')\n",
    "nltk.download('wordnet')\n",
    "nltk.download('averaged_perceptron_tagger')\n",
    "from nltk.corpus import stopwords\n",
    "from nltk import pos_tag\n",
    "from nltk.corpus import wordnet\n",
    "from sklearn.feature_extraction.text import TfidfVectorizer\n",
    "from nltk.stem import PorterStemmer, WordNetLemmatizer\n",
    "import re\n",
    "import string"
   ]
  },
  {
   "cell_type": "code",
   "execution_count": 18,
   "metadata": {
    "colab": {
     "base_uri": "https://localhost:8080/",
     "height": 34
    },
    "colab_type": "code",
    "executionInfo": {
     "elapsed": 735,
     "status": "ok",
     "timestamp": 1590313710696,
     "user": {
      "displayName": "shivani agrawal",
      "photoUrl": "https://lh3.googleusercontent.com/a-/AOh14Gg_3EicpNrCDaGDzpdu6kmoiE0ZTb47wDfW0j425A=s64",
      "userId": "16789929496636965576"
     },
     "user_tz": -330
    },
    "id": "vxW_cdt-jQM2",
    "outputId": "327a5e65-3b7c-41a8-f36c-c939621d509a"
   },
   "outputs": [
    {
     "data": {
      "text/plain": [
       "'!\"#$%&\\'()*+,-./:;<=>?@[\\\\]^_`{|}~'"
      ]
     },
     "execution_count": 18,
     "metadata": {
      "tags": []
     },
     "output_type": "execute_result"
    }
   ],
   "source": [
    "string.punctuation"
   ]
  },
  {
   "cell_type": "code",
   "execution_count": 0,
   "metadata": {
    "colab": {},
    "colab_type": "code",
    "id": "KreiB3A11qgt"
   },
   "outputs": [],
   "source": [
    "lemm = WordNetLemmatizer()\n",
    "def clean_text(text):\n",
    "    text = re.sub('[^a-zA-Z]', ' ', text)\n",
    "    text = text.lower()\n",
    "    words = text.split()\n",
    "    lem_words = [lemm.lemmatize(word) for word in words if word not in set(stopwords.words('english'))]\n",
    "        \n",
    "    return lem_words"
   ]
  },
  {
   "cell_type": "code",
   "execution_count": 23,
   "metadata": {
    "colab": {
     "base_uri": "https://localhost:8080/",
     "height": 34
    },
    "colab_type": "code",
    "executionInfo": {
     "elapsed": 878,
     "status": "ok",
     "timestamp": 1590313970296,
     "user": {
      "displayName": "shivani agrawal",
      "photoUrl": "https://lh3.googleusercontent.com/a-/AOh14Gg_3EicpNrCDaGDzpdu6kmoiE0ZTb47wDfW0j425A=s64",
      "userId": "16789929496636965576"
     },
     "user_tz": -330
    },
    "id": "9zeowfmf2Sem",
    "outputId": "47f5a9a7-3a8b-4cd0-be9b-cecbeb1df989"
   },
   "outputs": [
    {
     "data": {
      "text/plain": [
       "['hi', 'name', 'shivani']"
      ]
     },
     "execution_count": 23,
     "metadata": {
      "tags": []
     },
     "output_type": "execute_result"
    }
   ],
   "source": [
    "clean_text(\"Hi my name is Shivani!\")"
   ]
  },
  {
   "cell_type": "code",
   "execution_count": 24,
   "metadata": {
    "colab": {
     "base_uri": "https://localhost:8080/",
     "height": 439
    },
    "colab_type": "code",
    "executionInfo": {
     "elapsed": 1724,
     "status": "ok",
     "timestamp": 1590313980734,
     "user": {
      "displayName": "shivani agrawal",
      "photoUrl": "https://lh3.googleusercontent.com/a-/AOh14Gg_3EicpNrCDaGDzpdu6kmoiE0ZTb47wDfW0j425A=s64",
      "userId": "16789929496636965576"
     },
     "user_tz": -330
    },
    "id": "BLiJVVWzhFgO",
    "outputId": "673f8eb2-6ab0-46ab-c7f6-221f288ff7c0"
   },
   "outputs": [
    {
     "data": {
      "text/plain": [
       "['much',\n",
       " 'write',\n",
       " 'exactly',\n",
       " 'supposed',\n",
       " 'filter',\n",
       " 'pop',\n",
       " 'sound',\n",
       " 'recording',\n",
       " 'much',\n",
       " 'crisp',\n",
       " 'one',\n",
       " 'lowest',\n",
       " 'price',\n",
       " 'pop',\n",
       " 'filter',\n",
       " 'amazon',\n",
       " 'might',\n",
       " 'well',\n",
       " 'buy',\n",
       " 'honestly',\n",
       " 'work',\n",
       " 'despite',\n",
       " 'pricing',\n",
       " 'good']"
      ]
     },
     "execution_count": 24,
     "metadata": {
      "tags": []
     },
     "output_type": "execute_result"
    }
   ],
   "source": [
    "clean_text(df['text'][0])"
   ]
  },
  {
   "cell_type": "code",
   "execution_count": 0,
   "metadata": {
    "colab": {},
    "colab_type": "code",
    "id": "eAJvsLNtoaAq"
   },
   "outputs": [],
   "source": [
    "#df['text'] = df['text'].apply(clean_text)"
   ]
  },
  {
   "cell_type": "code",
   "execution_count": 0,
   "metadata": {
    "colab": {},
    "colab_type": "code",
    "id": "RisM5tddhYvM"
   },
   "outputs": [],
   "source": [
    "X = df['text']\n",
    "y = df['overall']"
   ]
  },
  {
   "cell_type": "code",
   "execution_count": 27,
   "metadata": {
    "colab": {
     "base_uri": "https://localhost:8080/",
     "height": 87
    },
    "colab_type": "code",
    "executionInfo": {
     "elapsed": 1435,
     "status": "ok",
     "timestamp": 1590313994029,
     "user": {
      "displayName": "shivani agrawal",
      "photoUrl": "https://lh3.googleusercontent.com/a-/AOh14Gg_3EicpNrCDaGDzpdu6kmoiE0ZTb47wDfW0j425A=s64",
      "userId": "16789929496636965576"
     },
     "user_tz": -330
    },
    "id": "kpN0lrdbhbNt",
    "outputId": "180a8895-8d68-4357-c883-fc205a6f7e4a"
   },
   "outputs": [
    {
     "name": "stdout",
     "output_type": "stream",
     "text": [
      "(8208,)\n",
      "(2053,)\n",
      "(8208,)\n",
      "(2053,)\n"
     ]
    }
   ],
   "source": [
    "from sklearn.model_selection import train_test_split\n",
    "\n",
    "X_train, X_test, y_train, y_test = train_test_split(X, y, test_size = 0.2, random_state = 0)\n",
    "\n",
    "print(X_train.shape)\n",
    "print(X_test.shape)\n",
    "print(y_train.shape)\n",
    "print(y_test.shape)"
   ]
  },
  {
   "cell_type": "code",
   "execution_count": 0,
   "metadata": {
    "colab": {},
    "colab_type": "code",
    "id": "1IAptV5MhfCR"
   },
   "outputs": [],
   "source": [
    "vectorizer = TfidfVectorizer(min_df=0, max_df=1, use_idf=True, ngram_range=(1,3), analyzer=clean_text)\n",
    "X_train = vectorizer.fit_transform(X_train)"
   ]
  },
  {
   "cell_type": "code",
   "execution_count": 0,
   "metadata": {
    "colab": {},
    "colab_type": "code",
    "id": "fATVvjzNh3Hj"
   },
   "outputs": [],
   "source": [
    "X_test = vectorizer.transform(X_test)"
   ]
  },
  {
   "cell_type": "code",
   "execution_count": 30,
   "metadata": {
    "colab": {
     "base_uri": "https://localhost:8080/",
     "height": 87
    },
    "colab_type": "code",
    "executionInfo": {
     "elapsed": 25933,
     "status": "ok",
     "timestamp": 1590314161081,
     "user": {
      "displayName": "shivani agrawal",
      "photoUrl": "https://lh3.googleusercontent.com/a-/AOh14Gg_3EicpNrCDaGDzpdu6kmoiE0ZTb47wDfW0j425A=s64",
      "userId": "16789929496636965576"
     },
     "user_tz": -330
    },
    "id": "Y1WtXe_YiAA1",
    "outputId": "a5222200-94b4-4161-bd87-d17a56e442a8"
   },
   "outputs": [
    {
     "name": "stdout",
     "output_type": "stream",
     "text": [
      "<class 'scipy.sparse.csr.csr_matrix'>\n",
      "(8208, 7232)\n",
      "(2053, 7232)\n",
      "<class 'scipy.sparse.csr.csr_matrix'>\n"
     ]
    }
   ],
   "source": [
    "print(type(X_train))\n",
    "print(X_train.shape)\n",
    "print(X_test.shape)\n",
    "print(type(X_test))"
   ]
  },
  {
   "cell_type": "code",
   "execution_count": 31,
   "metadata": {
    "colab": {
     "base_uri": "https://localhost:8080/",
     "height": 87
    },
    "colab_type": "code",
    "executionInfo": {
     "elapsed": 1076,
     "status": "ok",
     "timestamp": 1590314167801,
     "user": {
      "displayName": "shivani agrawal",
      "photoUrl": "https://lh3.googleusercontent.com/a-/AOh14Gg_3EicpNrCDaGDzpdu6kmoiE0ZTb47wDfW0j425A=s64",
      "userId": "16789929496636965576"
     },
     "user_tz": -330
    },
    "id": "KQx_Eka56Ktz",
    "outputId": "9c092755-fb47-4824-b5a3-dda2a3992976"
   },
   "outputs": [
    {
     "data": {
      "text/plain": [
       "2    7197\n",
       "1     638\n",
       "0     373\n",
       "Name: overall, dtype: int64"
      ]
     },
     "execution_count": 31,
     "metadata": {
      "tags": []
     },
     "output_type": "execute_result"
    }
   ],
   "source": [
    "y_train.value_counts()"
   ]
  },
  {
   "cell_type": "code",
   "execution_count": 32,
   "metadata": {
    "colab": {
     "base_uri": "https://localhost:8080/",
     "height": 87
    },
    "colab_type": "code",
    "executionInfo": {
     "elapsed": 1116,
     "status": "ok",
     "timestamp": 1590314170203,
     "user": {
      "displayName": "shivani agrawal",
      "photoUrl": "https://lh3.googleusercontent.com/a-/AOh14Gg_3EicpNrCDaGDzpdu6kmoiE0ZTb47wDfW0j425A=s64",
      "userId": "16789929496636965576"
     },
     "user_tz": -330
    },
    "id": "qZutvmLa7hPc",
    "outputId": "ffd6d5fd-b91b-4900-90f0-926332b93620"
   },
   "outputs": [
    {
     "data": {
      "text/plain": [
       "2    1825\n",
       "1     134\n",
       "0      94\n",
       "Name: overall, dtype: int64"
      ]
     },
     "execution_count": 32,
     "metadata": {
      "tags": []
     },
     "output_type": "execute_result"
    }
   ],
   "source": [
    "y_test.value_counts()"
   ]
  },
  {
   "cell_type": "markdown",
   "metadata": {
    "colab_type": "text",
    "id": "j4cKPQNK89FV"
   },
   "source": [
    "# Handling Imbalanced Data through SMOTE"
   ]
  },
  {
   "cell_type": "markdown",
   "metadata": {
    "colab_type": "text",
    "id": "XR2mFPmQ9C57"
   },
   "source": [
    "Solving the Class Imbalance: SMOTE creates synthetic points from the minority class in order to reach an equal balance between the minority and majority class.\n",
    "\n",
    "Location of the synthetic points: SMOTE picks the distance between the closest neighbors of the minority class, in between these distances it creates synthetic points.\n",
    "\n",
    "Final Effect: More information is retained since we didn't have to delete any rows unlike in random undersampling.\n",
    "\n",
    "Accuracy || Time Tradeoff: Although it is likely that SMOTE will be more accurate than random under-sampling, it will take more time to train since no rows are eliminated as previously stated."
   ]
  },
  {
   "cell_type": "code",
   "execution_count": 0,
   "metadata": {
    "colab": {},
    "colab_type": "code",
    "id": "6f9mNsaw7qp5"
   },
   "outputs": [],
   "source": [
    "import imblearn\n",
    "from imblearn.over_sampling import SMOTE"
   ]
  },
  {
   "cell_type": "code",
   "execution_count": 0,
   "metadata": {
    "colab": {},
    "colab_type": "code",
    "id": "D25ba2Qi7xFr"
   },
   "outputs": [],
   "source": [
    "smote = SMOTE(random_state=0)\n",
    "X_res, y_res = smote.fit_sample(X_train, y_train)"
   ]
  },
  {
   "cell_type": "code",
   "execution_count": 35,
   "metadata": {
    "colab": {
     "base_uri": "https://localhost:8080/",
     "height": 34
    },
    "colab_type": "code",
    "executionInfo": {
     "elapsed": 7482,
     "status": "ok",
     "timestamp": 1590314191669,
     "user": {
      "displayName": "shivani agrawal",
      "photoUrl": "https://lh3.googleusercontent.com/a-/AOh14Gg_3EicpNrCDaGDzpdu6kmoiE0ZTb47wDfW0j425A=s64",
      "userId": "16789929496636965576"
     },
     "user_tz": -330
    },
    "id": "NFV5x-qO9ZQ5",
    "outputId": "392875dd-88ea-4204-d07b-163b2f289986"
   },
   "outputs": [
    {
     "data": {
      "text/plain": [
       "((21591, 7232), (21591,))"
      ]
     },
     "execution_count": 35,
     "metadata": {
      "tags": []
     },
     "output_type": "execute_result"
    }
   ],
   "source": [
    "X_res.shape, y_res.shape"
   ]
  },
  {
   "cell_type": "code",
   "execution_count": 36,
   "metadata": {
    "colab": {
     "base_uri": "https://localhost:8080/",
     "height": 87
    },
    "colab_type": "code",
    "executionInfo": {
     "elapsed": 1187,
     "status": "ok",
     "timestamp": 1590314205000,
     "user": {
      "displayName": "shivani agrawal",
      "photoUrl": "https://lh3.googleusercontent.com/a-/AOh14Gg_3EicpNrCDaGDzpdu6kmoiE0ZTb47wDfW0j425A=s64",
      "userId": "16789929496636965576"
     },
     "user_tz": -330
    },
    "id": "3EhAQC8H9cnK",
    "outputId": "ef9b2998-70f2-40fc-f225-69d97da5840b"
   },
   "outputs": [
    {
     "data": {
      "text/plain": [
       "2    7197\n",
       "1    7197\n",
       "0    7197\n",
       "dtype: int64"
      ]
     },
     "execution_count": 36,
     "metadata": {
      "tags": []
     },
     "output_type": "execute_result"
    }
   ],
   "source": [
    "y_res = pd.Series(y_res)\n",
    "y_res.value_counts()"
   ]
  },
  {
   "cell_type": "markdown",
   "metadata": {
    "colab_type": "text",
    "id": "RJLJ5x1biKnf"
   },
   "source": [
    "# Classifiers"
   ]
  },
  {
   "cell_type": "code",
   "execution_count": 0,
   "metadata": {
    "colab": {},
    "colab_type": "code",
    "id": "d9zwoRKZiLwV"
   },
   "outputs": [],
   "source": [
    "from sklearn.naive_bayes import MultinomialNB\n",
    "from sklearn.neighbors import KNeighborsClassifier\n",
    "from sklearn.linear_model import LogisticRegression\n",
    "from sklearn.metrics import accuracy_score"
   ]
  },
  {
   "cell_type": "code",
   "execution_count": 38,
   "metadata": {
    "colab": {
     "base_uri": "https://localhost:8080/",
     "height": 34
    },
    "colab_type": "code",
    "executionInfo": {
     "elapsed": 1143,
     "status": "ok",
     "timestamp": 1590314209255,
     "user": {
      "displayName": "shivani agrawal",
      "photoUrl": "https://lh3.googleusercontent.com/a-/AOh14Gg_3EicpNrCDaGDzpdu6kmoiE0ZTb47wDfW0j425A=s64",
      "userId": "16789929496636965576"
     },
     "user_tz": -330
    },
    "id": "AnEJKIFeiS6M",
    "outputId": "e9263611-7d42-49f4-9bab-033d5c44e154"
   },
   "outputs": [
    {
     "data": {
      "text/plain": [
       "0.24646858256210424"
      ]
     },
     "execution_count": 38,
     "metadata": {
      "tags": []
     },
     "output_type": "execute_result"
    }
   ],
   "source": [
    "classifier = MultinomialNB()\n",
    "model = classifier.fit(X_res, y_res)\n",
    "y_pred = model.predict(X_test)\n",
    "accuracy = accuracy_score(y_test, y_pred)\n",
    "accuracy"
   ]
  },
  {
   "cell_type": "code",
   "execution_count": 41,
   "metadata": {
    "colab": {
     "base_uri": "https://localhost:8080/",
     "height": 34
    },
    "colab_type": "code",
    "executionInfo": {
     "elapsed": 2674,
     "status": "ok",
     "timestamp": 1590314862645,
     "user": {
      "displayName": "shivani agrawal",
      "photoUrl": "https://lh3.googleusercontent.com/a-/AOh14Gg_3EicpNrCDaGDzpdu6kmoiE0ZTb47wDfW0j425A=s64",
      "userId": "16789929496636965576"
     },
     "user_tz": -330
    },
    "id": "druAR15iJfFA",
    "outputId": "9efcc586-6c3c-43e5-ba61-8307b8ffc199"
   },
   "outputs": [
    {
     "data": {
      "text/plain": [
       "0.04822211397954213"
      ]
     },
     "execution_count": 41,
     "metadata": {
      "tags": []
     },
     "output_type": "execute_result"
    }
   ],
   "source": [
    "clf = KNeighborsClassifier()\n",
    "model = clf.fit(X_res, y_res)\n",
    "y_pred = model.predict(X_test)\n",
    "accuracy = accuracy_score(y_test, y_pred)\n",
    "accuracy"
   ]
  },
  {
   "cell_type": "code",
   "execution_count": 43,
   "metadata": {
    "colab": {
     "base_uri": "https://localhost:8080/",
     "height": 34
    },
    "colab_type": "code",
    "executionInfo": {
     "elapsed": 1352,
     "status": "ok",
     "timestamp": 1590316309110,
     "user": {
      "displayName": "shivani agrawal",
      "photoUrl": "https://lh3.googleusercontent.com/a-/AOh14Gg_3EicpNrCDaGDzpdu6kmoiE0ZTb47wDfW0j425A=s64",
      "userId": "16789929496636965576"
     },
     "user_tz": -330
    },
    "id": "Obbh9TjtPOtB",
    "outputId": "460fbb8d-7887-47f0-8b59-60e5fa4971a7"
   },
   "outputs": [
    {
     "data": {
      "text/plain": [
       "0.8533852898197759"
      ]
     },
     "execution_count": 43,
     "metadata": {
      "tags": []
     },
     "output_type": "execute_result"
    }
   ],
   "source": [
    "clf = LogisticRegression()\n",
    "model = clf.fit(X_res, y_res)\n",
    "y_pred = model.predict(X_test)\n",
    "accuracy = accuracy_score(y_test, y_pred)\n",
    "accuracy"
   ]
  },
  {
   "cell_type": "markdown",
   "metadata": {
    "colab_type": "text",
    "id": "Gf3gJ7JEY9qN"
   },
   "source": [
    "SMOTE with Cross-Validation\n",
    "\n",
    "Techniques like oversampling/SMOTE help to improve model performance trained on these datasets, but in order to ensure cross-validation is helping us produce the best model that will generalize to unseen data, it is essential to follow these guidelines:\n",
    "\n",
    "1. In each iteration exclude some data for validation. The excluded data should not be used for feature selection, oversampling and model building.\n",
    "\n",
    "2. Oversample the minority class only in the training set without the data already excluded for validation.\n",
    "\n",
    "3. Repeat K times, where K is number of folds."
   ]
  },
  {
   "cell_type": "code",
   "execution_count": 0,
   "metadata": {
    "colab": {},
    "colab_type": "code",
    "id": "wA-0VWTRRJ5J"
   },
   "outputs": [],
   "source": [
    "from sklearn.model_selection import StratifiedKFold"
   ]
  },
  {
   "cell_type": "code",
   "execution_count": 0,
   "metadata": {
    "colab": {},
    "colab_type": "code",
    "id": "arbeBoC-RcZ_"
   },
   "outputs": [],
   "source": [
    "skf = StratifiedKFold(shuffle=True, random_state=0)\n",
    "X = df['text']\n",
    "y = df['overall']\n",
    "\n",
    "vect = TfidfVectorizer(analyzer=clean_text)"
   ]
  },
  {
   "cell_type": "code",
   "execution_count": 0,
   "metadata": {
    "colab": {},
    "colab_type": "code",
    "id": "nv0iJN6lRcdP"
   },
   "outputs": [],
   "source": [
    "accs = []\n",
    "for train_index, test_index in skf.split(X, y):\n",
    "    X_train_cv, X_test_cv = X.iloc[train_index], X.iloc[test_index]\n",
    "    y_train_cv, y_test_cv = y.iloc[train_index], y.iloc[test_index]\n",
    "\n",
    "    #Fit vectorizer and transform X_train_cv and then transform X_test_cv\n",
    "    X_train_vect = vect.fit_transform(X_train_cv)\n",
    "    X_test_vect = vect.transform(X_test_cv)\n",
    "\n",
    "    #Oversample\n",
    "    X_train_sm, y_train_sm = smote.fit_sample(X_train_vect, y_train_cv)\n",
    "\n",
    "    classifier.fit(X_train_sm, y_train_sm)\n",
    "    y_pred_sm = classifier.predict(X_test_vect)\n",
    "\n",
    "    accs.append(accuracy_score(y_test_cv, y_pred_sm))"
   ]
  },
  {
   "cell_type": "code",
   "execution_count": 50,
   "metadata": {
    "colab": {
     "base_uri": "https://localhost:8080/",
     "height": 34
    },
    "colab_type": "code",
    "executionInfo": {
     "elapsed": 2219,
     "status": "ok",
     "timestamp": 1590318790096,
     "user": {
      "displayName": "shivani agrawal",
      "photoUrl": "https://lh3.googleusercontent.com/a-/AOh14Gg_3EicpNrCDaGDzpdu6kmoiE0ZTb47wDfW0j425A=s64",
      "userId": "16789929496636965576"
     },
     "user_tz": -330
    },
    "id": "vT-jgUb6U4rS",
    "outputId": "de4d6e11-ec03-4821-f627-f3027debd489"
   },
   "outputs": [
    {
     "name": "stdout",
     "output_type": "stream",
     "text": [
      "The average accuracy score is  : 0.7647393772627705\n"
     ]
    }
   ],
   "source": [
    "print(\"The average accuracy score is  : {}\".format(np.mean(accs)))"
   ]
  },
  {
   "cell_type": "markdown",
   "metadata": {
    "colab_type": "text",
    "id": "mITZFb4Oitsa"
   },
   "source": [
    "# Neural Networks"
   ]
  },
  {
   "cell_type": "markdown",
   "metadata": {
    "colab_type": "text",
    "id": "htMVyYzRi0Rb"
   },
   "source": [
    "## Data preprocessing"
   ]
  },
  {
   "cell_type": "code",
   "execution_count": 0,
   "metadata": {
    "colab": {},
    "colab_type": "code",
    "id": "skp2D_7ji1O_"
   },
   "outputs": [],
   "source": [
    "X = df['text']\n",
    "y = df['overall']\n",
    "\n",
    "X_train, X_test, y_train, y_test = train_test_split(X, y, test_size = 0.25, random_state = 0)"
   ]
  },
  {
   "cell_type": "code",
   "execution_count": 55,
   "metadata": {
    "colab": {
     "base_uri": "https://localhost:8080/",
     "height": 54
    },
    "colab_type": "code",
    "executionInfo": {
     "elapsed": 4130,
     "status": "ok",
     "timestamp": 1590322567735,
     "user": {
      "displayName": "shivani agrawal",
      "photoUrl": "https://lh3.googleusercontent.com/a-/AOh14Gg_3EicpNrCDaGDzpdu6kmoiE0ZTb47wDfW0j425A=s64",
      "userId": "16789929496636965576"
     },
     "user_tz": -330
    },
    "id": "hQ6vQTixi7La",
    "outputId": "07a718c3-dd1b-4fe5-da93-199673b6f5cb"
   },
   "outputs": [
    {
     "data": {
      "text/plain": [
       "\"Not much to write about here, but it does exactly what it's supposed to. filters out the pop sounds. now my recordings are much more crisp. it is one of the lowest prices pop filters on amazon so might as well buy it, they honestly work the same despite their pricing, good\""
      ]
     },
     "execution_count": 55,
     "metadata": {
      "tags": []
     },
     "output_type": "execute_result"
    }
   ],
   "source": [
    "X_train[0]"
   ]
  },
  {
   "cell_type": "code",
   "execution_count": 0,
   "metadata": {
    "colab": {},
    "colab_type": "code",
    "id": "f4KMpBNei7rN"
   },
   "outputs": [],
   "source": [
    "def cleaning(text):\n",
    "    text = re.sub('[^a-zA-Z]', ' ', text)\n",
    "    text = text.lower()\n",
    "    words = text.split()\n",
    "    lem_words = [lemm.lemmatize(word) for word in words if word not in set(stopwords.words('english'))]\n",
    "    sentence = ' '.join(lem_words)\n",
    "    return sentence"
   ]
  },
  {
   "cell_type": "code",
   "execution_count": 0,
   "metadata": {
    "colab": {},
    "colab_type": "code",
    "id": "PS_0K3Fvi9je"
   },
   "outputs": [],
   "source": [
    "X_train = X_train.apply(cleaning)\n",
    "X_test = X_test.apply(cleaning)"
   ]
  },
  {
   "cell_type": "code",
   "execution_count": 58,
   "metadata": {
    "colab": {
     "base_uri": "https://localhost:8080/",
     "height": 34
    },
    "colab_type": "code",
    "executionInfo": {
     "elapsed": 1055,
     "status": "ok",
     "timestamp": 1590322857292,
     "user": {
      "displayName": "shivani agrawal",
      "photoUrl": "https://lh3.googleusercontent.com/a-/AOh14Gg_3EicpNrCDaGDzpdu6kmoiE0ZTb47wDfW0j425A=s64",
      "userId": "16789929496636965576"
     },
     "user_tz": -330
    },
    "id": "jyWQNYJsjAaz",
    "outputId": "76195e3e-d592-47fb-8c8a-ae6bccbcb340"
   },
   "outputs": [
    {
     "data": {
      "text/plain": [
       "(pandas.core.series.Series, pandas.core.series.Series)"
      ]
     },
     "execution_count": 58,
     "metadata": {
      "tags": []
     },
     "output_type": "execute_result"
    }
   ],
   "source": [
    "type(X_train), type(X_test)"
   ]
  },
  {
   "cell_type": "code",
   "execution_count": 59,
   "metadata": {
    "colab": {
     "base_uri": "https://localhost:8080/",
     "height": 34
    },
    "colab_type": "code",
    "executionInfo": {
     "elapsed": 1261,
     "status": "ok",
     "timestamp": 1590322862028,
     "user": {
      "displayName": "shivani agrawal",
      "photoUrl": "https://lh3.googleusercontent.com/a-/AOh14Gg_3EicpNrCDaGDzpdu6kmoiE0ZTb47wDfW0j425A=s64",
      "userId": "16789929496636965576"
     },
     "user_tz": -330
    },
    "id": "I3nkAtq6jPut",
    "outputId": "41a0a302-314a-41c4-a0a4-389083d27376"
   },
   "outputs": [
    {
     "name": "stderr",
     "output_type": "stream",
     "text": [
      "Using TensorFlow backend.\n"
     ]
    }
   ],
   "source": [
    "from keras.preprocessing.text import Tokenizer\n",
    "from keras.preprocessing.sequence import pad_sequences\n",
    "from keras.models import Sequential\n",
    "from keras.layers import Embedding, Dropout, Dense, LSTM"
   ]
  },
  {
   "cell_type": "code",
   "execution_count": 0,
   "metadata": {
    "colab": {},
    "colab_type": "code",
    "id": "1-8DUFNhkEIQ"
   },
   "outputs": [],
   "source": [
    "#This class allows to vectorize a text corpus, by turning each text into either a sequence of integers\n",
    "#(each integer being the index of a token in a dictionary) or into a vector where the coefficient for each token \n",
    "#could be binary, based on word count, based on tf-idf...\n",
    "tokenize = Tokenizer()\n",
    "\n",
    "#Updates internal vocabulary based on a list of texts.\n",
    "#In the case where texts contains lists, we assume each entry of the lists to be a token.\n",
    "tokenize.fit_on_texts(X_train)"
   ]
  },
  {
   "cell_type": "code",
   "execution_count": 0,
   "metadata": {
    "colab": {},
    "colab_type": "code",
    "id": "UgIG_TJYkJZU"
   },
   "outputs": [],
   "source": [
    "#texts_to_sequences : Transforms each text in texts to a sequence of integers.\n",
    "#Only top num_words-1 most frequent words will be taken into account. \n",
    "#Only words known by the tokenizer will be taken into account.\n",
    "X_train = tokenize.texts_to_sequences(X_train)\n",
    "X_test = tokenize.texts_to_sequences(X_test)"
   ]
  },
  {
   "cell_type": "code",
   "execution_count": 0,
   "metadata": {
    "colab": {},
    "colab_type": "code",
    "id": "TADS26gIkK8D"
   },
   "outputs": [],
   "source": [
    "maxlen = 0\n",
    "for text in X_train:\n",
    "    if(len(text) > maxlen):\n",
    "        maxlen = len(text)\n",
    "        "
   ]
  },
  {
   "cell_type": "code",
   "execution_count": 0,
   "metadata": {
    "colab": {},
    "colab_type": "code",
    "id": "VLuyiPmZkMrF"
   },
   "outputs": [],
   "source": [
    "#Pads sequences to the same length.\n",
    "#This function transforms a list of num_samples sequences (lists of integers) into a 2D Numpy array of shape \n",
    "#(num_samples, num_timesteps). num_timesteps is either the maxlen argument if provided, \n",
    "#or the length of the longest sequence otherwise.\n",
    "#Sequences that are shorter than num_timesteps are padded with value at the end.\n",
    "#Sequences longer than num_timesteps are truncated so that they fit the desired length. \n",
    "#The position where padding or truncation happens is determined by the arguments padding and truncating, respectively.\n",
    "\n",
    "#Returns: x: Numpy array with shape `(len(sequences), maxlen)`\n",
    "X_train = pad_sequences(X_train, maxlen=maxlen)\n",
    "X_test = pad_sequences(X_test, maxlen=maxlen)"
   ]
  },
  {
   "cell_type": "code",
   "execution_count": 64,
   "metadata": {
    "colab": {
     "base_uri": "https://localhost:8080/",
     "height": 34
    },
    "colab_type": "code",
    "executionInfo": {
     "elapsed": 897,
     "status": "ok",
     "timestamp": 1590322928118,
     "user": {
      "displayName": "shivani agrawal",
      "photoUrl": "https://lh3.googleusercontent.com/a-/AOh14Gg_3EicpNrCDaGDzpdu6kmoiE0ZTb47wDfW0j425A=s64",
      "userId": "16789929496636965576"
     },
     "user_tz": -330
    },
    "id": "lznOR5fpkO4c",
    "outputId": "646d5260-2fdd-41fd-c608-af7c763043bd"
   },
   "outputs": [
    {
     "data": {
      "text/plain": [
       "((7695, 1093), (2566, 1093))"
      ]
     },
     "execution_count": 64,
     "metadata": {
      "tags": []
     },
     "output_type": "execute_result"
    }
   ],
   "source": [
    "X_train.shape, X_test.shape"
   ]
  },
  {
   "cell_type": "code",
   "execution_count": 0,
   "metadata": {
    "colab": {},
    "colab_type": "code",
    "id": "9XDADjkSkQdJ"
   },
   "outputs": [],
   "source": [
    "#Let's build a model with 3 hidden layers\n",
    "#Embedding layer:\n",
    "# the model will take as input an integer matrix of size (batch,\n",
    "# input_length).\n",
    "# the largest integer (i.e. word index) in the input should be no larger\n",
    "# than 999 (vocabulary size).\n",
    "\n",
    "EMBEDDING_DIM = 100 #dimension of vector\n",
    "input_dim_embed = len(tokenize.word_index) + 1 #vocab_size\n",
    "model = Sequential() #The Sequential model is a linear stack of layers.\n",
    "model.add(Embedding(input_dim_embed, EMBEDDING_DIM, input_length=maxlen))\n",
    "model.add(LSTM(units=128, dropout = 0.2, recurrent_dropout=0.2))\n",
    "model.add(Dense(6, activation='softmax'))\n",
    "\n",
    "model.compile(loss = 'sparse_categorical_crossentropy', optimizer='adam', metrics=['accuracy'])"
   ]
  },
  {
   "cell_type": "code",
   "execution_count": 66,
   "metadata": {
    "colab": {
     "base_uri": "https://localhost:8080/",
     "height": 280
    },
    "colab_type": "code",
    "executionInfo": {
     "elapsed": 1229,
     "status": "ok",
     "timestamp": 1590326287696,
     "user": {
      "displayName": "shivani agrawal",
      "photoUrl": "https://lh3.googleusercontent.com/a-/AOh14Gg_3EicpNrCDaGDzpdu6kmoiE0ZTb47wDfW0j425A=s64",
      "userId": "16789929496636965576"
     },
     "user_tz": -330
    },
    "id": "4O4ZECZbkYIw",
    "outputId": "4099c3f4-39d6-4d90-adca-79dac7e4d85a"
   },
   "outputs": [
    {
     "name": "stdout",
     "output_type": "stream",
     "text": [
      "Model: \"sequential_1\"\n",
      "_________________________________________________________________\n",
      "Layer (type)                 Output Shape              Param #   \n",
      "=================================================================\n",
      "embedding_1 (Embedding)      (None, 1093, 100)         1520600   \n",
      "_________________________________________________________________\n",
      "lstm_1 (LSTM)                (None, 128)               117248    \n",
      "_________________________________________________________________\n",
      "dense_1 (Dense)              (None, 6)                 774       \n",
      "=================================================================\n",
      "Total params: 1,638,622\n",
      "Trainable params: 1,638,622\n",
      "Non-trainable params: 0\n",
      "_________________________________________________________________\n",
      "None\n"
     ]
    }
   ],
   "source": [
    "print(model.summary())"
   ]
  },
  {
   "cell_type": "code",
   "execution_count": 67,
   "metadata": {
    "colab": {
     "base_uri": "https://localhost:8080/",
     "height": 245
    },
    "colab_type": "code",
    "executionInfo": {
     "elapsed": 1125271,
     "status": "ok",
     "timestamp": 1590327415167,
     "user": {
      "displayName": "shivani agrawal",
      "photoUrl": "https://lh3.googleusercontent.com/a-/AOh14Gg_3EicpNrCDaGDzpdu6kmoiE0ZTb47wDfW0j425A=s64",
      "userId": "16789929496636965576"
     },
     "user_tz": -330
    },
    "id": "H5Jq0aEckacU",
    "outputId": "c53d3540-e708-403d-f3dd-e725226c011b"
   },
   "outputs": [
    {
     "name": "stdout",
     "output_type": "stream",
     "text": [
      "Epoch 1/6\n",
      "7695/7695 [==============================] - 190s 25ms/step - loss: 0.6551 - accuracy: 0.8619\n",
      "Epoch 2/6\n",
      "7695/7695 [==============================] - 186s 24ms/step - loss: 0.4398 - accuracy: 0.8758\n",
      "Epoch 3/6\n",
      "7695/7695 [==============================] - 186s 24ms/step - loss: 0.3580 - accuracy: 0.8837\n",
      "Epoch 4/6\n",
      "7695/7695 [==============================] - 186s 24ms/step - loss: 0.2583 - accuracy: 0.9029\n",
      "Epoch 5/6\n",
      "7695/7695 [==============================] - 187s 24ms/step - loss: 0.2064 - accuracy: 0.9224\n",
      "Epoch 6/6\n",
      "7695/7695 [==============================] - 187s 24ms/step - loss: 0.1636 - accuracy: 0.9415\n"
     ]
    },
    {
     "data": {
      "text/plain": [
       "<keras.callbacks.callbacks.History at 0x7fa77be677b8>"
      ]
     },
     "execution_count": 67,
     "metadata": {
      "tags": []
     },
     "output_type": "execute_result"
    }
   ],
   "source": [
    "model.fit(X_train, y_train, batch_size=128, epochs=6, verbose=1)"
   ]
  },
  {
   "cell_type": "code",
   "execution_count": 0,
   "metadata": {
    "colab": {},
    "colab_type": "code",
    "id": "sHL9SITRkcm8"
   },
   "outputs": [],
   "source": [
    "final_pred = model.predict_classes(X_test)"
   ]
  },
  {
   "cell_type": "code",
   "execution_count": 0,
   "metadata": {
    "colab": {},
    "colab_type": "code",
    "id": "jZ5nWeysq0yS"
   },
   "outputs": [],
   "source": [
    "#y_pred = model.predict(y_test)\n",
    "acc = accuracy_score(y_test, final_pred)"
   ]
  },
  {
   "cell_type": "code",
   "execution_count": 70,
   "metadata": {
    "colab": {
     "base_uri": "https://localhost:8080/",
     "height": 34
    },
    "colab_type": "code",
    "executionInfo": {
     "elapsed": 1193,
     "status": "ok",
     "timestamp": 1590327444325,
     "user": {
      "displayName": "shivani agrawal",
      "photoUrl": "https://lh3.googleusercontent.com/a-/AOh14Gg_3EicpNrCDaGDzpdu6kmoiE0ZTb47wDfW0j425A=s64",
      "userId": "16789929496636965576"
     },
     "user_tz": -330
    },
    "id": "1f0ybQN3q8dF",
    "outputId": "2ff0a94f-d8f1-41e9-e51b-bfe4fdfc81c3"
   },
   "outputs": [
    {
     "data": {
      "text/plain": [
       "0.8881527669524552"
      ]
     },
     "execution_count": 70,
     "metadata": {
      "tags": []
     },
     "output_type": "execute_result"
    }
   ],
   "source": [
    "acc"
   ]
  },
  {
   "cell_type": "code",
   "execution_count": 0,
   "metadata": {
    "colab": {},
    "colab_type": "code",
    "id": "Ipcssyws6xkz"
   },
   "outputs": [],
   "source": []
  }
 ],
 "metadata": {
  "accelerator": "GPU",
  "colab": {
   "authorship_tag": "ABX9TyOG9ztGh57/tTK5WyfmP3QW",
   "collapsed_sections": [],
   "mount_file_id": "11sVjz0gXOw4_AdNbC8nwSdeBaE4wQzJQ",
   "name": "musical_instrument_analysis.ipynb",
   "provenance": []
  },
  "kernelspec": {
   "display_name": "Python 3",
   "language": "python",
   "name": "python3"
  },
  "language_info": {
   "codemirror_mode": {
    "name": "ipython",
    "version": 3
   },
   "file_extension": ".py",
   "mimetype": "text/x-python",
   "name": "python",
   "nbconvert_exporter": "python",
   "pygments_lexer": "ipython3",
   "version": "3.7.3"
  }
 },
 "nbformat": 4,
 "nbformat_minor": 1
}
